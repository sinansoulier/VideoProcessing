{
 "cells": [
  {
   "attachments": {},
   "cell_type": "markdown",
   "metadata": {},
   "source": [
    "# Practical 1 - Motion Estimation"
   ]
  },
  {
   "attachments": {},
   "cell_type": "markdown",
   "metadata": {},
   "source": [
    "## Setup"
   ]
  },
  {
   "attachments": {},
   "cell_type": "markdown",
   "metadata": {},
   "source": [
    "### Import necessay libraries"
   ]
  },
  {
   "cell_type": "code",
   "execution_count": null,
   "metadata": {},
   "outputs": [],
   "source": [
    "import matplotlib.pyplot as plt\n",
    "import numpy as np\n",
    "import cv2\n",
    "from matplotlib.patches import Polygon"
   ]
  },
  {
   "attachments": {},
   "cell_type": "markdown",
   "metadata": {},
   "source": [
    "### Import images"
   ]
  },
  {
   "attachments": {},
   "cell_type": "markdown",
   "metadata": {},
   "source": [
    "#### Utility functions"
   ]
  },
  {
   "cell_type": "code",
   "execution_count": null,
   "metadata": {},
   "outputs": [],
   "source": [
    "def load_image(path: str) -> np.ndarray:\n",
    "    \"\"\"\n",
    "    Load image from path and convert it to RGB\n",
    "    \n",
    "    :param path: path to image\n",
    "    :return: image in RGB\n",
    "    \"\"\"\n",
    "    img = cv2.imread(path)\n",
    "    return cv2.cvtColor(img, cv2.COLOR_BGR2GRAY)\n",
    "\n",
    "def display_image(img: np.ndarray, title: str = \"\") -> None:\n",
    "    \"\"\"\n",
    "    Display image with matplotlib\n",
    "\n",
    "    :param img: image to display\n",
    "    :param title: title of the image\n",
    "    \"\"\"\n",
    "    plt.imshow(img, cmap=\"gray\")\n",
    "    plt.title(title)\n",
    "    plt.axis('off')\n",
    "    plt.show()"
   ]
  },
  {
   "attachments": {},
   "cell_type": "markdown",
   "metadata": {},
   "source": [
    "#### Load images and display chosen samples"
   ]
  },
  {
   "cell_type": "code",
   "execution_count": null,
   "metadata": {},
   "outputs": [],
   "source": [
    "# Load two consecutive frames\n",
    "frame1: np.ndarray = load_image(\"./images/Part1/LF000.jpg\")\n",
    "frame2: np.ndarray = load_image(\"./images/Part1/LF001.jpg\")\n",
    "\n",
    "# Display chosen frames\n",
    "display_image(frame1, \"Frame 1\")\n",
    "display_image(frame2, \"Frame 2\")"
   ]
  },
  {
   "attachments": {},
   "cell_type": "markdown",
   "metadata": {},
   "source": [
    "## A - Pixel wise motion estimation"
   ]
  },
  {
   "cell_type": "code",
   "execution_count": null,
   "metadata": {},
   "outputs": [],
   "source": [
    "def pixel_wise_motion_estimation(frame1: np.ndarray, frame2: np.ndarray, neighborhood: int = 5) -> tuple[np.ndarray]:\n",
    "    \"\"\"\n",
    "    Compute the motion estimation between two frames using pixel-wise motion estimation\n",
    "\n",
    "    :param frame1: first frame\n",
    "    :param frame2: second frame\n",
    "    :return: motion vectors\n",
    "    \"\"\"\n",
    "    assert frame1.shape == frame2.shape, \"Frames must have the same shape\"\n",
    "\n",
    "    frame_shape = frame1.shape\n",
    "    frame1 = frame1 / 255\n",
    "    frame2 = frame2 / 255\n",
    "\n",
    "    v_x = np.zeros(frame_shape, dtype='int')\n",
    "    v_y = np.zeros(frame_shape, dtype='int')\n",
    "\n",
    "    for i in range(frame_shape[0]):\n",
    "        for j in range(frame_shape[1]):\n",
    "            min_x = max(0, i - neighborhood)\n",
    "            max_x = min(frame_shape[0], i + neighborhood)\n",
    "\n",
    "            min_y = max(0, j - neighborhood)\n",
    "            max_y = min(frame_shape[1], j + neighborhood)\n",
    "\n",
    "            E = np.inf\n",
    "            new_x = 0\n",
    "            new_y = 0\n",
    "\n",
    "            for k in range(min_x, max_x):\n",
    "                should_break = False\n",
    "                for l in range(min_y, max_y):\n",
    "                    if frame1[k, l] == frame2[i, j] and (k == i and l == j):\n",
    "                        new_x = 0\n",
    "                        new_y = 0\n",
    "                        should_break = True\n",
    "                        break\n",
    "                    \n",
    "                    E_new = (frame2[k, l] - frame1[i, j]) ** 2\n",
    "                    diff_x = k - i\n",
    "                    diff_y = l - j\n",
    "                    \n",
    "                    if E_new < E:\n",
    "                        E = E_new\n",
    "                        new_x = diff_x\n",
    "                        new_y = diff_y\n",
    "                    elif E_new == E and (diff_x < new_x or diff_y < new_y):\n",
    "                        new_x = diff_x\n",
    "                        new_y = diff_y\n",
    "\n",
    "                if should_break:\n",
    "                    break\n",
    "            \n",
    "            v_x[i, j] = new_x\n",
    "            v_y[i, j] = new_y\n",
    "    \n",
    "    return v_x, v_y"
   ]
  },
  {
   "cell_type": "code",
   "execution_count": null,
   "metadata": {},
   "outputs": [],
   "source": [
    "# Compute motion estimation\n",
    "motion_x, motion_y = pixel_wise_motion_estimation(frame1, frame2, neighborhood=3)"
   ]
  },
  {
   "attachments": {},
   "cell_type": "markdown",
   "metadata": {},
   "source": [
    "### Visualize motion vectors"
   ]
  },
  {
   "cell_type": "code",
   "execution_count": null,
   "metadata": {},
   "outputs": [],
   "source": [
    "def display_motion_estimation(u: np.ndarray, v: np.ndarray, frame: np.ndarray, step: int = 5) -> None:\n",
    "    \"\"\"\n",
    "    Display the motion estimation between two frames\n",
    "\n",
    "    :param u: first frame\n",
    "    :param v: second frame\n",
    "    \"\"\"\n",
    "    # Pixel coordinates\n",
    "    x_coords = np.arange(0, frame1.shape[1], step)\n",
    "    y_coords = np.arange(0, frame1.shape[0], step)\n",
    "\n",
    "    print(x_coords.shape, y_coords.shape, u.shape, v.shape)\n",
    "\n",
    "    u = u[::step, ::step]\n",
    "    v = v[::step, ::step]\n",
    "\n",
    "    _, ax = plt.subplots(1, 1, figsize=(15, 6))\n",
    "    ax.imshow(frame, cmap='gray')\n",
    "    ax.set_axis_off()\n",
    "    ax.set_title('Motion estimation')\n",
    "    \n",
    "    ax.quiver(x_coords, y_coords, u, v, scale=200, color='blue')\n",
    "    plt.show()\n",
    "\n",
    "# Display motion estimation\n",
    "display_motion_estimation(motion_x, motion_y, frame1, step=10)"
   ]
  },
  {
   "attachments": {},
   "cell_type": "markdown",
   "metadata": {},
   "source": [
    "## B - Block Matching Algorithm (BMA)"
   ]
  },
  {
   "cell_type": "code",
   "execution_count": null,
   "metadata": {},
   "outputs": [],
   "source": [
    "def BMA(frame1: np.ndarray , frame2: np.ndarray, block_size: int = 16, window_size: int = 7) -> tuple[np.ndarray]:\n",
    "    \"\"\"\n",
    "    Compute the motion estimation between two frames using the block matching algorithm\n",
    "\n",
    "    :param frame1: first frame\n",
    "    :param frame2: second frame\n",
    "    :return: motion vectors\n",
    "    \"\"\"\n",
    "    assert frame1.shape == frame2.shape, \"Frames must have the same shape\"\n",
    "\n",
    "    frame_shape = frame1.shape\n",
    "    frame1 = frame1 / 255\n",
    "    frame2 = frame2 / 255\n",
    "\n",
    "    r_i = range(0, frame_shape[0], block_size)\n",
    "    r_j = range(0, frame_shape[1], block_size)\n",
    "    l_r_i = len(r_i)\n",
    "    l_r_j = len(r_j)\n",
    "\n",
    "    v_x = np.zeros((l_r_i, l_r_j), dtype='int')\n",
    "    v_y = np.zeros((l_r_i, l_r_j), dtype='int')\n",
    "\n",
    "    for i in r_i:\n",
    "        for j in r_j:\n",
    "            current_block = frame1[i:i+block_size, j:j+block_size]\n",
    "\n",
    "            E = np.inf\n",
    "            new_x = 0\n",
    "            new_y = 0\n",
    "\n",
    "            for k in range(i - window_size, i + window_size):\n",
    "                should_break = False\n",
    "                for l in range(j - window_size, j + window_size):\n",
    "                    if k == i and l == j and frame1[i, j] == frame2[k, l]:\n",
    "                        new_x = 0\n",
    "                        new_y = 0\n",
    "                        should_break = True\n",
    "\n",
    "                    new_block = frame2[k:k+block_size, l:l+block_size]\n",
    "                    if new_block.shape != current_block.shape:\n",
    "                        continue\n",
    "\n",
    "                    E_new = np.sum(np.abs((new_block - current_block)) ** 2)\n",
    "\n",
    "                    diff_x = k - i\n",
    "                    diff_y = l - j\n",
    "\n",
    "                    if E_new < E:\n",
    "                        E = E_new\n",
    "                        new_x = diff_x\n",
    "                        new_y = diff_y\n",
    "                    \n",
    "                    elif E_new == E and (diff_x < new_x or diff_y < new_y):\n",
    "                        new_x = diff_x\n",
    "                        new_y = diff_y\n",
    "                \n",
    "                if should_break:\n",
    "                    break\n",
    "\n",
    "            v_x[i // block_size, j // block_size] = new_x\n",
    "            v_y[i // block_size, j // block_size] = new_y\n",
    "\n",
    "    return v_x, v_y"
   ]
  },
  {
   "cell_type": "code",
   "execution_count": null,
   "metadata": {},
   "outputs": [],
   "source": [
    "def BMA_display(frame1: np.ndarray, frame2: np.ndarray, block_size: int = 16, window_size: int = 10) -> None:\n",
    "    v_x , v_y = BMA(frame1, frame2, block_size=block_size, window_size=window_size)\n",
    "\n",
    "    x_coords = np.arange(0, frame1.shape[1], block_size)\n",
    "    y_coords = np.arange(0, frame1.shape[0], block_size)\n",
    "\n",
    "    _, ax = plt.subplots(1, 1, figsize=(15, 6))\n",
    "    ax.imshow(frame1, cmap='gray')\n",
    "    ax.set_axis_off()\n",
    "    ax.set_title('Motion estimation')\n",
    "\n",
    "    ax.quiver(x_coords, y_coords, v_x, v_y, scale=250, color='blue')\n",
    "    plt.show()\n",
    "\n",
    "BMA_display(frame1, frame2, block_size=16, window_size=32)"
   ]
  },
  {
   "attachments": {},
   "cell_type": "markdown",
   "metadata": {},
   "source": [
    "## D - Node based algorithm"
   ]
  },
  {
   "attachments": {},
   "cell_type": "markdown",
   "metadata": {},
   "source": [
    "Chargons dans un premier temps les images fournies."
   ]
  },
  {
   "cell_type": "code",
   "execution_count": null,
   "metadata": {},
   "outputs": [],
   "source": [
    "pic1: np.ndarray = load_image(\"./images/Part2/1.png\")\n",
    "pic2: np.ndarray = load_image(\"./images/Part2/2.png\")\n",
    "\n",
    "# Display provided frames\n",
    "display_image(pic1, \"Frame 1\")\n",
    "display_image(pic2, \"Frame 2\")"
   ]
  },
  {
   "attachments": {},
   "cell_type": "markdown",
   "metadata": {},
   "source": [
    "On peut dès à présent se donner quelques hyperparamètres."
   ]
  },
  {
   "cell_type": "code",
   "execution_count": 333,
   "metadata": {},
   "outputs": [
    {
     "name": "stdout",
     "output_type": "stream",
     "text": [
      "Block size: 150\n"
     ]
    }
   ],
   "source": [
    "IMG_HEIGHT = pic1.shape[0]\n",
    "IMG_WIDTH = pic1.shape[1]\n",
    "BLOCK_SIZE = ((IMG_HEIGHT + IMG_HEIGHT) // 2) // 4\n",
    "LEARNING_RATE = 0.001\n",
    "\n",
    "print(f'Block size: {BLOCK_SIZE}')"
   ]
  },
  {
   "attachments": {},
   "cell_type": "markdown",
   "metadata": {},
   "source": [
    "L'étape suivante est de déterminer les positions des blocs initiaux dans l'image de référence : `pic1`"
   ]
  },
  {
   "cell_type": "code",
   "execution_count": 334,
   "metadata": {},
   "outputs": [
    {
     "name": "stdout",
     "output_type": "stream",
     "text": [
      "Number of blocks: 16\n"
     ]
    }
   ],
   "source": [
    "def get_blocks_positions(img: np.ndarray, block_size: int) -> np.ndarray:\n",
    "    \"\"\"\n",
    "    Compute the positions of the blocks in the image\n",
    "\n",
    "    :param img: image\n",
    "    :param block_size: size of the blocks\n",
    "    :return: blocks positions\n",
    "    \"\"\"\n",
    "    blocks: list = []\n",
    "\n",
    "    # Determine blocks positions\n",
    "    for j in range(0, img.shape[0], block_size):\n",
    "        for i in range(0, img.shape[1], block_size):\n",
    "            block: list = []\n",
    "            block.append([i, j])\n",
    "            block.append([i, j + block_size])\n",
    "            block.append([i + block_size, j + block_size])\n",
    "            block.append([i + block_size, j])\n",
    "            \n",
    "            # Add block to list\n",
    "            blocks.append(block)\n",
    "    \n",
    "    return np.array(blocks)\n",
    "\n",
    "blocks = get_blocks_positions(pic1, BLOCK_SIZE)\n",
    "print(f'Number of blocks: {blocks.shape[0]}')"
   ]
  },
  {
   "attachments": {},
   "cell_type": "markdown",
   "metadata": {},
   "source": [
    "Vérifions que les blocs sont bien placés en les affichant sur l'image de référence."
   ]
  },
  {
   "cell_type": "code",
   "execution_count": 335,
   "metadata": {},
   "outputs": [
    {
     "data": {
      "image/png": "[encoded data removed]",
      "text/plain": [
       "<Figure size 640x480 with 1 Axes>"
      ]
     },
     "metadata": {},
     "output_type": "display_data"
    }
   ],
   "source": [
    "def display_nodes(img: np.ndarray, nodes: np.ndarray) -> None:\n",
    "    \"\"\"\n",
    "    Display the nodes in the image\n",
    "\n",
    "    :param img: image\n",
    "    :param nodes: nodes\n",
    "    \"\"\"\n",
    "    _, ax = plt.subplots()\n",
    "    ax.imshow(img, cmap='gray')\n",
    "    ax.set_axis_off()\n",
    "    ax.set_title('Nodes')\n",
    "\n",
    "    for node in nodes:\n",
    "        ax.add_patch(\n",
    "            Polygon(node, linewidth=1, edgecolor=np.random.choice(['red', 'green', 'blue']), facecolor='none')\n",
    "        )\n",
    "    \n",
    "    plt.show()\n",
    "\n",
    "display_nodes(pic1, blocks)"
   ]
  },
  {
   "cell_type": "code",
   "execution_count": 347,
   "metadata": {},
   "outputs": [],
   "source": [
    "def initialize_new_blocks(shape: tuple) -> np.ndarray:\n",
    "    return np.zeros(shape)\n",
    "\n",
    "def phi(pos: tuple[int, int], pos_min: tuple[int, int], pos_max: tuple[int, int]) -> list[float]:\n",
    "    \"\"\"\n",
    "    Compute the phi functions (interpolation kernel)\n",
    "    :param pos: position\n",
    "    :param pos_min: minimum position\n",
    "    :param pos_max: maximum position\n",
    "    :return: phi functions (interpolation kernel)\n",
    "    \"\"\"\n",
    "    x, y = pos\n",
    "    \n",
    "    x_min, y_min = pos_min\n",
    "    x_max, y_max= pos_max\n",
    "\n",
    "    cst = ((x_max - x_min) * (y_max - y_min))\n",
    "\n",
    "    # Compute phi functions in regards to\n",
    "    # the polynomials formulas\n",
    "    phi_1 = (x_max - x) * (y_max - y) / cst\n",
    "    phi_2 = (x - x_min) * (y_max - y) / cst\n",
    "    phi_3 = (x_max - x) * (y - y_min) / cst\n",
    "    phi_4 = (x - x_min) * (y - y_min) / cst\n",
    "\n",
    "    return [phi_1, phi_2, phi_3, phi_4]\n",
    "\n",
    "def displaced_frame_difference(d_b: np.ndarray, frame1: np.ndarray, frame2: np.ndarray, block_positions: np.ndarray) -> float:\n",
    "    \"\"\"\n",
    "    Compute the displaced frame difference energy between two frames\n",
    "\n",
    "    :param d: motion vector\n",
    "    :param frame1: first frame\n",
    "    :param frame2: second frame\n",
    "    :param block: block\n",
    "    :return: displaced frame difference\n",
    "    \"\"\"\n",
    "\n",
    "    # Get the min and max positions of the blocks\n",
    "    x_min, x_max = block_positions[:, 0].min(), block_positions[:, 0].max()\n",
    "    y_min, y_max= block_positions[:, 1].min(), block_positions[:, 1].max()\n",
    "   \n",
    "    E_dfd: float = 0\n",
    "    \n",
    "    # Iterate over every pixel in the block\n",
    "    for x in range(x_min, x_max):\n",
    "        for y in range(y_min, y_max):\n",
    "            d = d_b.copy()\n",
    "            # Compute the interpolation kernel\n",
    "            phi_tup = phi((x, y), (x_min, y_min), (x_max, y_max))\n",
    "\n",
    "            for k in range(d_b.shape[0]):\n",
    "                d += phi_tup[k] * d_b[k]\n",
    "            \n",
    "            d = d.sum(axis=0)\n",
    "            # Compute the new position\n",
    "            new_pos = np.array([x, y]) + d.astype(int)\n",
    "            new_pos = np.clip(new_pos, 0, frame1.shape[0] - 1)\n",
    "            \n",
    "            # Compute the displaced frame difference\n",
    "            E_dfd += abs(frame2[new_pos[0], new_pos[1]] - frame1[x, y])\n",
    "\n",
    "    return E_dfd\n",
    "\n",
    "def get_displaced_block(frame1: np.ndarray, frame2: np.ndarray, block: np.ndarray, d: np.ndarray, learning_rate: float) -> np.ndarray:\n",
    "    \"\"\"\n",
    "    Compute the displaced blocks\n",
    "    :param frame1: first frame\n",
    "    :param frame2: second frame\n",
    "    :param blocks: blocks\n",
    "    :param d: motion vector\n",
    "    :return: displaced blocks\n",
    "    \"\"\"\n",
    "    for _ in range(10):\n",
    "        E_dfd = displaced_frame_difference(d, frame1, frame2, block)\n",
    "\n",
    "        gradient = np.zeros((4, 2))\n",
    "        for i in range(gradient.shape[0]):\n",
    "            for j in range(gradient.shape[1]):\n",
    "                diff_d = d.copy()\n",
    "                diff_d[i, j] += 1\n",
    "                diff_E_dfd = displaced_frame_difference(diff_d, frame1, frame2, block)\n",
    "                gradient[i, j] = (diff_E_dfd - E_dfd)\n",
    "\n",
    "        d = d - learning_rate * gradient\n",
    "\n",
    "        if np.abs(gradient).mean() * learning_rate < 0.1:\n",
    "            break\n",
    "        \n",
    "    return d"
   ]
  },
  {
   "cell_type": "code",
   "execution_count": 348,
   "metadata": {},
   "outputs": [
    {
     "name": "stderr",
     "output_type": "stream",
     "text": [
      "/var/folders/6w/l_4p050n0js7pwx4t7cb7k5r0000gn/T/ipykernel_53062/925793972.py:49: RuntimeWarning: overflow encountered in ubyte_scalars\n",
      "  E_dfd += abs(frame2[new_pos[0], new_pos[1]] - frame1[x, y]) ** 2\n"
     ]
    },
    {
     "data": {
      "image/png": "[encoded data removed]",
      "text/plain": [
       "<Figure size 640x480 with 1 Axes>"
      ]
     },
     "metadata": {},
     "output_type": "display_data"
    }
   ],
   "source": [
    "d_new = initialize_new_blocks((blocks.shape))\n",
    "for i in range(blocks.shape[0]):\n",
    "    d_new[i] = get_displaced_block(pic1, pic2, blocks[i], d_new[i], LEARNING_RATE)\n",
    "new_blocks = blocks + d_new\n",
    "display_nodes(pic2, new_blocks)"
   ]
  }
 ],
 "metadata": {
  "kernelspec": {
   "display_name": "Python 3",
   "language": "python",
   "name": "python3"
  },
  "language_info": {
   "codemirror_mode": {
    "name": "ipython",
    "version": 3
   },
   "file_extension": ".py",
   "mimetype": "text/x-python",
   "name": "python",
   "nbconvert_exporter": "python",
   "pygments_lexer": "ipython3",
   "version": "3.10.4"
  },
  "orig_nbformat": 4
 },
 "nbformat": 4,
 "nbformat_minor": 2
}
